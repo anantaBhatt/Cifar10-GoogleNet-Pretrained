{
 "cells": [
  {
   "cell_type": "code",
   "execution_count": 1,
   "metadata": {
    "_cell_guid": "b1076dfc-b9ad-4769-8c92-a6c4dae69d19",
    "_uuid": "8f2839f25d086af736a60e9eeb907d3b93b6e0e5"
   },
   "outputs": [
    {
     "name": "stderr",
     "output_type": "stream",
     "text": [
      "Using TensorFlow backend.\n"
     ]
    }
   ],
   "source": [
    "import keras\n",
    "from keras.datasets import cifar10\n",
    "from keras.models import Model, Sequential\n",
    "from keras.layers import Dense, Dropout, Flatten, Input, AveragePooling2D, merge\n",
    "from keras.layers import Conv2D, MaxPooling2D, BatchNormalization\n",
    "from keras.layers import Concatenate\n",
    "from keras.optimizers import Adam\n",
    "\n",
    "import tensorflow as tf\n",
    "from keras import backend as k\n",
    "\n",
    "\n",
    "config = tf.ConfigProto()\n",
    "config.gpu_options.allow_growth = True\n",
    "\n",
    "k.tensorflow_backend.set_session(tf.Session(config=config))\n",
    "\n",
    "batch_size = 128\n",
    "num_classes = 10\n",
    "epochs = 30"
   ]
  },
  {
   "cell_type": "code",
   "execution_count": 2,
   "metadata": {
    "_uuid": "d8f8aecefd45860229e3fda1a3349f3b23bd0545"
   },
   "outputs": [],
   "source": [
    "def add_module(input):\n",
    "\n",
    "    Conv2D_reduce = Conv2D(16, (1,1), strides=(2,2), activation='relu', padding='same')(input)\n",
    "    Conv2D_1_1 = Conv2D(16, (1,1), activation='relu', padding='same')(input)\n",
    "    Conv2D_3_3 = Conv2D(16, (3,3),strides=(2,2), activation='relu', padding='same')(Conv2D_1_1)\n",
    "    Conv2D_5_5 = Conv2D(16, (5,5),strides=(2,2), activation='relu', padding='same')(Conv2D_1_1)\n",
    "    MaxPool2D_3_3 = MaxPooling2D(pool_size=(2,2), strides=(2,2))(input)\n",
    "    Cov2D_Pool = Conv2D(16, (1,1), activation='relu', padding='same')(MaxPool2D_3_3)\n",
    "    concat = Concatenate(axis=-1)([Conv2D_reduce,Conv2D_3_3,Conv2D_5_5,Cov2D_Pool])\n",
    "    return concat"
   ]
  },
  {
   "cell_type": "code",
   "execution_count": 3,
   "metadata": {
    "_cell_guid": "79c7e3d0-c299-4dcb-8224-4455121ee9b0",
    "_uuid": "d629ff2d2480ee46fbb7e2d37f6b5fab8052498a"
   },
   "outputs": [
    {
     "name": "stdout",
     "output_type": "stream",
     "text": [
      "Downloading data from https://www.cs.toronto.edu/~kriz/cifar-10-python.tar.gz\n",
      "170500096/170498071 [==============================] - 29s 0us/step\n"
     ]
    }
   ],
   "source": [
    "(x_train, y_train), (x_test, y_test) = cifar10.load_data()\n",
    "img_height, img_width, channel = x_train.shape[1],x_train.shape[2],x_train.shape[3]\n",
    "y_train = keras.utils.to_categorical(y_train, num_classes)\n",
    "y_test = keras.utils.to_categorical(y_test, num_classes)"
   ]
  },
  {
   "cell_type": "code",
   "execution_count": 4,
   "metadata": {
    "_uuid": "866115d7c1555ef868614ba109f199adda4c0024"
   },
   "outputs": [],
   "source": [
    "\n",
    "input = Input(shape=(img_height, img_width, channel,))\n",
    "\n",
    "Conv2D_1 = Conv2D(64, (3,3), activation='relu', padding='same')(input)\n",
    "MaxPool2D_1 = MaxPooling2D(pool_size=(2, 2), strides=(2,2))(Conv2D_1)\n",
    "BatchNorm_1 = BatchNormalization()(MaxPool2D_1)\n",
    "\n",
    "Module_1 = add_module(BatchNorm_1)\n",
    "Module_1 = add_module(Module_1)\n",
    "\n",
    "Output = Flatten()(Module_1)\n",
    "Output = Dense(num_classes, activation='softmax')(Output)"
   ]
  },
  {
   "cell_type": "code",
   "execution_count": 5,
   "metadata": {
    "_uuid": "adce7fba3f3753ca6fe5abe786eb5fc476b02aea"
   },
   "outputs": [],
   "source": [
    "from keras import losses\n",
    "model = Model(inputs=[input], outputs=[Output])"
   ]
  },
  {
   "cell_type": "code",
   "execution_count": 6,
   "metadata": {
    "_uuid": "ec0ea8691da8a5dc150158f6b04dd39f232e8cfc"
   },
   "outputs": [],
   "source": [
    "\n",
    "model.compile(loss=losses.categorical_crossentropy,\n",
    "              optimizer=Adam(),\n",
    "              metrics=['accuracy'])"
   ]
  },
  {
   "cell_type": "code",
   "execution_count": 7,
   "metadata": {
    "_uuid": "d3fe26bacf546a53c8d50c776443b30d0ce8d3c5"
   },
   "outputs": [
    {
     "name": "stdout",
     "output_type": "stream",
     "text": [
      "Train on 50000 samples, validate on 10000 samples\n",
      "Epoch 1/30\n",
      "50000/50000 [==============================] - 14s 287us/step - loss: 1.4572 - acc: 0.4803 - val_loss: 1.2746 - val_acc: 0.5462\n",
      "Epoch 2/30\n",
      "50000/50000 [==============================] - 10s 204us/step - loss: 1.1003 - acc: 0.6117 - val_loss: 1.0656 - val_acc: 0.6223\n",
      "Epoch 3/30\n",
      "50000/50000 [==============================] - 10s 198us/step - loss: 0.9623 - acc: 0.6617 - val_loss: 1.0603 - val_acc: 0.6331\n",
      "Epoch 4/30\n",
      "50000/50000 [==============================] - 10s 195us/step - loss: 0.8713 - acc: 0.6977 - val_loss: 1.1484 - val_acc: 0.6048\n",
      "Epoch 5/30\n",
      "50000/50000 [==============================] - 10s 198us/step - loss: 0.8113 - acc: 0.7169 - val_loss: 1.0323 - val_acc: 0.6601\n",
      "Epoch 6/30\n",
      "50000/50000 [==============================] - 10s 197us/step - loss: 0.7617 - acc: 0.7360 - val_loss: 1.1032 - val_acc: 0.6291\n",
      "Epoch 7/30\n",
      "50000/50000 [==============================] - 10s 195us/step - loss: 0.7237 - acc: 0.7488 - val_loss: 1.0558 - val_acc: 0.6493\n",
      "Epoch 8/30\n",
      "50000/50000 [==============================] - 10s 199us/step - loss: 0.6897 - acc: 0.7600 - val_loss: 0.9558 - val_acc: 0.6756\n",
      "Epoch 9/30\n",
      "50000/50000 [==============================] - 10s 198us/step - loss: 0.6599 - acc: 0.7710 - val_loss: 0.9595 - val_acc: 0.6877\n",
      "Epoch 10/30\n",
      "50000/50000 [==============================] - 10s 195us/step - loss: 0.6305 - acc: 0.7797 - val_loss: 0.9581 - val_acc: 0.6838\n",
      "Epoch 11/30\n",
      "50000/50000 [==============================] - 10s 201us/step - loss: 0.6079 - acc: 0.7888 - val_loss: 0.9941 - val_acc: 0.6759\n",
      "Epoch 12/30\n",
      "50000/50000 [==============================] - 10s 196us/step - loss: 0.5856 - acc: 0.7970 - val_loss: 0.9317 - val_acc: 0.6977\n",
      "Epoch 13/30\n",
      "50000/50000 [==============================] - 10s 197us/step - loss: 0.5637 - acc: 0.8031 - val_loss: 1.0850 - val_acc: 0.6573\n",
      "Epoch 14/30\n",
      "50000/50000 [==============================] - 10s 201us/step - loss: 0.5442 - acc: 0.8098 - val_loss: 1.0289 - val_acc: 0.6781\n",
      "Epoch 15/30\n",
      "50000/50000 [==============================] - 10s 203us/step - loss: 0.5278 - acc: 0.8150 - val_loss: 1.0898 - val_acc: 0.6654\n",
      "Epoch 16/30\n",
      "50000/50000 [==============================] - 10s 205us/step - loss: 0.5137 - acc: 0.8194 - val_loss: 0.9550 - val_acc: 0.6946\n",
      "Epoch 17/30\n",
      "50000/50000 [==============================] - 10s 202us/step - loss: 0.4937 - acc: 0.8262 - val_loss: 1.1303 - val_acc: 0.6618\n",
      "Epoch 18/30\n",
      "50000/50000 [==============================] - 10s 199us/step - loss: 0.4847 - acc: 0.8296 - val_loss: 1.1501 - val_acc: 0.6643\n",
      "Epoch 19/30\n",
      "50000/50000 [==============================] - 10s 203us/step - loss: 0.4620 - acc: 0.8364 - val_loss: 1.0120 - val_acc: 0.6898\n",
      "Epoch 20/30\n",
      "50000/50000 [==============================] - 10s 200us/step - loss: 0.4521 - acc: 0.8399 - val_loss: 1.0258 - val_acc: 0.6907\n",
      "Epoch 21/30\n",
      "50000/50000 [==============================] - 10s 201us/step - loss: 0.4430 - acc: 0.8430 - val_loss: 1.1005 - val_acc: 0.6765\n",
      "Epoch 22/30\n",
      "50000/50000 [==============================] - 11s 214us/step - loss: 0.4286 - acc: 0.8471 - val_loss: 1.0567 - val_acc: 0.6864\n",
      "Epoch 23/30\n",
      "50000/50000 [==============================] - 10s 204us/step - loss: 0.4184 - acc: 0.8533 - val_loss: 1.1218 - val_acc: 0.6799\n",
      "Epoch 24/30\n",
      "50000/50000 [==============================] - 10s 197us/step - loss: 0.4126 - acc: 0.8526 - val_loss: 1.1012 - val_acc: 0.6751\n",
      "Epoch 25/30\n",
      "50000/50000 [==============================] - 10s 195us/step - loss: 0.3871 - acc: 0.8631 - val_loss: 1.1759 - val_acc: 0.6744\n",
      "Epoch 26/30\n",
      "50000/50000 [==============================] - 10s 195us/step - loss: 0.3850 - acc: 0.8625 - val_loss: 1.2606 - val_acc: 0.6647\n",
      "Epoch 27/30\n",
      "50000/50000 [==============================] - 10s 195us/step - loss: 0.3818 - acc: 0.8628 - val_loss: 1.2400 - val_acc: 0.6603\n",
      "Epoch 28/30\n",
      "50000/50000 [==============================] - 10s 192us/step - loss: 0.3658 - acc: 0.8692 - val_loss: 1.1276 - val_acc: 0.7016\n",
      "Epoch 29/30\n",
      "50000/50000 [==============================] - 9s 188us/step - loss: 0.3550 - acc: 0.8742 - val_loss: 1.3202 - val_acc: 0.6703\n",
      "Epoch 30/30\n",
      "50000/50000 [==============================] - 9s 189us/step - loss: 0.3473 - acc: 0.8752 - val_loss: 1.2747 - val_acc: 0.6849\n"
     ]
    },
    {
     "data": {
      "text/plain": [
       "<keras.callbacks.History at 0x7ff141532a58>"
      ]
     },
     "execution_count": 7,
     "metadata": {},
     "output_type": "execute_result"
    }
   ],
   "source": [
    "\n",
    "model.fit(x_train, y_train,\n",
    "                    batch_size=batch_size,\n",
    "                    epochs=epochs,\n",
    "                    verbose=1,\n",
    "                    validation_data=(x_test, y_test))"
   ]
  },
  {
   "cell_type": "code",
   "execution_count": 8,
   "metadata": {
    "_uuid": "193148e1bb9f90a78fd3651b74f4f765467b84e6"
   },
   "outputs": [
    {
     "name": "stdout",
     "output_type": "stream",
     "text": [
      "Test loss: 1.2746585406303406\n",
      "Test accuracy: 0.6849\n",
      "Training loss: 0.3805230078148842\n",
      "Training accuracy: 0.86228\n"
     ]
    }
   ],
   "source": [
    "score = model.evaluate(x_test, y_test, verbose=0)\n",
    "print('Test loss:', score[0])\n",
    "print('Test accuracy:', score[1])\n",
    "score = score = model.evaluate(x_train, y_train, verbose=0)\n",
    "print('Training loss:', score[0])\n",
    "print('Training accuracy:', score[1])\n"
   ]
  }
 ],
 "metadata": {
  "kernelspec": {
   "display_name": "Python 3",
   "language": "python",
   "name": "python3"
  },
  "language_info": {
   "codemirror_mode": {
    "name": "ipython",
    "version": 3
   },
   "file_extension": ".py",
   "mimetype": "text/x-python",
   "name": "python",
   "nbconvert_exporter": "python",
   "pygments_lexer": "ipython3",
   "version": "3.6.6"
  }
 },
 "nbformat": 4,
 "nbformat_minor": 1
}
